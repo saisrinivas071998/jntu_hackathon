{
 "cells": [
  {
   "cell_type": "markdown",
   "metadata": {
    "tags": [
     "s1",
     "content"
    ]
   },
   "source": [
    "\n",
    "                \n",
    "#Air Quality Analysis"
   ]
  },
  {
   "cell_type": "code",
   "execution_count": 4,
   "metadata": {
    "collapsed": true,
    "tags": [
     "s1",
     "ce"
    ]
   },
   "outputs": [],
   "source": [
    "import matplotlib.pyplot as plt\n",
    "import csv\n",
    "import numpy as np\n",
    "from sklearn.cluster import KMeans\n",
    "features_train=[]\n",
    "lines=csv.reader(open(\"8hour_42101_2017_10K.csv\",\"r\"))\n",
    "#write your code here"
   ]
  },
  {
   "cell_type": "markdown",
   "metadata": {
    "tags": [
     "s1",
     "hint"
    ]
   },
   "source": [
    "#hint\n",
    "#kmeans=KMeans(n_clusters=4,random_state=0).fit(np.array(features_train))\n",
    "#print(kmeans.predict([[0.1,0.1,0.3],[1.0,1.0,1.0]]))"
   ]
  },
  {
   "cell_type": "code",
   "execution_count": 5,
   "metadata": {
    "tags": [
     "s1",
     "ans"
    ]
   },
   "outputs": [
    {
     "data": {
      "image/png": "[encoded data removed]",
      "text/plain": [
       "<matplotlib.figure.Figure at 0x7fd0b3233f60>"
      ]
     },
     "metadata": {},
     "output_type": "display_data"
    }
   ],
   "source": [
    "set1=list(lines)\n",
    "#print(len(set1))\n",
    "for i in range(1,10000):\n",
    "    features_train.append(set1[i][19:22])\n",
    "kmeans=KMeans(n_clusters=4,random_state=0).fit(np.array(features_train))\n",
    "list1=kmeans.predict([[0.1,0.1,0.3],[1.0,1.0,1.0]])\n",
    "#print(features_train[1][0])\n",
    "X1=[]\n",
    "X2=[]\n",
    "X3=[]\n",
    "for i in range(0,9999):\n",
    "    X1.append(features_train[i][0])\n",
    "    X2.append(features_train[i][1])\n",
    "    X3.append(features_train[i][2])\n",
    "plt.scatter(X1,kmeans.labels_,color=\"red\",linewidth=7)\n",
    "plt.scatter(X2,kmeans.labels_,color=\"black\",linewidth=5)\n",
    "plt.scatter(X3,kmeans.labels_,color=\"blue\")\n",
    "plt.show()\n",
    "list2=[1,0]"
   ]
  }
 ],
 "metadata": {
  "executed_sections": [],
  "kernelspec": {
   "display_name": "Python 3",
   "language": "python",
   "name": "python3"
  },
  "language_info": {
   "codemirror_mode": {
    "name": "ipython",
    "version": 3
   },
   "file_extension": ".py",
   "mimetype": "text/x-python",
   "name": "python",
   "nbconvert_exporter": "python",
   "pygments_lexer": "ipython3",
   "version": "3.5.2"
  }
 },
 "nbformat": 4,
 "nbformat_minor": 2
}