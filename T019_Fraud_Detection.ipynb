{
 "cells": [
  {
   "cell_type": "markdown",
   "metadata": {
    "tags": [
     "s1",
     "content"
    ]
   },
   "source": [
    "\n",
    "#Problem 2.0 Alpha Solutions Fraud Detection"
   ]
  },
  {
   "cell_type": "code",
   "execution_count": 6,
   "metadata": {
    "collapsed": true,
    "tags": [
     "s1",
     "ce"
    ]
   },
   "outputs": [],
   "source": [
    "import matplotlib.pyplot as plt\n",
    "import csv\n",
    "import numpy as np\n",
    "from sklearn import svm\n",
    "import pylab as pl\n",
    "import pandas as pd\n",
    "\n",
    "features_train=[]\n",
    "features_test=[]\n",
    "labels_train=[]\n",
    "labels_test=[]\n",
    "\n",
    "#reading from csv file\n",
    "lines=csv.reader(open(\"fraud_data.csv\",\"r\"))\n",
    "\n",
    "#write your code here."
   ]
  },
  {
   "cell_type": "markdown",
   "metadata": {
    "tags": [
     "s1",
     "hint"
    ]
   },
   "source": [
    "#Hint:clf=svm.SVC(kernel=\"rbf\",C=10000,gamma=0.1)\n",
    "#clf.fit(features_train,labels_train)\n",
    "#pred=clf.predict(features_test)"
   ]
  },
  {
   "cell_type": "code",
   "execution_count": 7,
   "metadata": {
    "tags": [
     "s1",
     "ans"
    ]
   },
   "outputs": [
    {
     "name": "stdout",
     "output_type": "stream",
     "text": [
      "['1' '1' '0' ..., '1' '1' '1']\n",
      "accuracy is:\n",
      "93.91093607997576 %\n"
     ]
    },
    {
     "data": {
      "image/png": "[encoded data removed]",
      "text/plain": [
       "<matplotlib.figure.Figure at 0x7f0425d0f710>"
      ]
     },
     "metadata": {},
     "output_type": "display_data"
    }
   ],
   "source": [
    "set1=list(lines)\n",
    "for i in range(1,6699):\n",
    "    features_train.append(set1[i][0:2]+set1[i][3:5])\n",
    "for i in range(6700,10001):\n",
    "    features_test.append(set1[i][0:2]+set1[i][3:5])\n",
    "for i in range(1,6699):\n",
    "    labels_train.append(set1[i][2])\n",
    "for i in range(6700,10001):\n",
    "    labels_test.append(set1[i][2])\n",
    "clf=svm.SVC(kernel=\"rbf\",C=10000,gamma=0.1)\n",
    "clf.fit(features_train,labels_train)\n",
    "pred=clf.predict(features_test)\n",
    "print(pred[0:2000])\n",
    "count=0;\n",
    "count1=0;\n",
    "for i in pred:\n",
    "    if pred[count]==labels_test[count]:\n",
    "        count1=count1+1\n",
    "    count+=1\n",
    "accuracy=count1/count*1.0\n",
    "print(\"accuracy is:\")\n",
    "print(accuracy*100,\"%\")\n",
    "#print(features_train[0][0])\n",
    "list_=[]\n",
    "list_1=[]\n",
    "list_2=[]\n",
    "list_3=[]\n",
    "#print(features_test)\n",
    "#df=pd.DataFrame(features_test,columns=pred)\n",
    "for i in range(0,3301):\n",
    "    list_.append(float(features_test[i][0]))\n",
    "    list_1.append(float(features_test[i][1]))\n",
    "    list_2.append(float(features_test[i][2]))\n",
    "    list_3.append(float(features_test[i][3]))\n",
    "#print(len(pred))\n",
    "#print(len(list_))\n",
    "plt.scatter(list_,pred,color='green')\n",
    "plt.scatter(list_1,pred,color='red')\n",
    "plt.scatter(list_2,pred,color='black')\n",
    "plt.scatter(list_3,pred,color='blue')\n",
    "plt.show()\n"
   ]
  },
  {
   "cell_type": "code",
   "execution_count": 8,
   "metadata": {
    "tags": [
     "s1",
     "hid"
    ]
   },
   "outputs": [
    {
     "name": "stdout",
     "output_type": "stream",
     "text": [
      "correct!\n"
     ]
    }
   ],
   "source": [
    "#this is assertion block which verifies the solution.\n",
    "\n",
    "if accuracy>0.93:\n",
    "    print(\"correct!\")\n",
    "else:\n",
    "    print('check your code')"
   ]
  }
 ],
 "metadata": {
  "executed_sections": [],
  "kernelspec": {
   "display_name": "Python 3",
   "language": "python",
   "name": "python3"
  },
  "language_info": {
   "codemirror_mode": {
    "name": "ipython",
    "version": 3
   },
   "file_extension": ".py",
   "mimetype": "text/x-python",
   "name": "python",
   "nbconvert_exporter": "python",
   "pygments_lexer": "ipython3",
   "version": "3.5.2"
  }
 },
 "nbformat": 4,
 "nbformat_minor": 2
}